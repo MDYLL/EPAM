{
 "cells": [
  {
   "cell_type": "markdown",
   "metadata": {},
   "source": [
    "## 1. Чтение/запись в словарь. При попытке чтения несуществующего ключа возвращаетсяNone."
   ]
  },
  {
   "cell_type": "code",
   "execution_count": 1,
   "metadata": {},
   "outputs": [],
   "source": [
    "def fill_dict(keys,values):\n",
    "    d=dict()\n",
    "    for i in range(len(keys)):\n",
    "        d[keys[i]]=values[i]\n",
    "    return d"
   ]
  },
  {
   "cell_type": "code",
   "execution_count": 2,
   "metadata": {},
   "outputs": [],
   "source": [
    "d=fill_dict(range(1000),range(1000))"
   ]
  },
  {
   "cell_type": "code",
   "execution_count": 3,
   "metadata": {},
   "outputs": [],
   "source": [
    "%load_ext line_profiler"
   ]
  },
  {
   "cell_type": "code",
   "execution_count": 4,
   "metadata": {},
   "outputs": [],
   "source": [
    "%lprun -f fill_dict fill_dict(range(10000000),range(10000000))"
   ]
  },
  {
   "cell_type": "markdown",
   "metadata": {},
   "source": [
    "### Total time: 9.36776 s"
   ]
  },
  {
   "cell_type": "code",
   "execution_count": 5,
   "metadata": {},
   "outputs": [],
   "source": [
    "def fill_dict1(keys,values):\n",
    "    d={keys[i]:values[i] for i in range(len(keys))}\n",
    "    return d"
   ]
  },
  {
   "cell_type": "code",
   "execution_count": 6,
   "metadata": {},
   "outputs": [],
   "source": [
    "%lprun -f fill_dict1 fill_dict1(range(10000000),range(10000000))"
   ]
  },
  {
   "cell_type": "markdown",
   "metadata": {},
   "source": [
    "### Total time: 4.19118 s"
   ]
  },
  {
   "cell_type": "code",
   "execution_count": 7,
   "metadata": {},
   "outputs": [],
   "source": [
    "def fill_dict2(keys,values):\n",
    "    d=dict(zip(keys,values))\n",
    "    return d"
   ]
  },
  {
   "cell_type": "code",
   "execution_count": 8,
   "metadata": {},
   "outputs": [],
   "source": [
    "%lprun -f fill_dict2 fill_dict2(range(10000000),range(10000000))"
   ]
  },
  {
   "cell_type": "markdown",
   "metadata": {},
   "source": [
    "### Total time: 0.909937 s"
   ]
  },
  {
   "cell_type": "code",
   "execution_count": 9,
   "metadata": {},
   "outputs": [],
   "source": [
    "%load_ext memory_profiler"
   ]
  },
  {
   "cell_type": "code",
   "execution_count": 10,
   "metadata": {},
   "outputs": [
    {
     "name": "stdout",
     "output_type": "stream",
     "text": [
      "Overwriting compare_fill_dict.py\n"
     ]
    }
   ],
   "source": [
    "%%writefile compare_fill_dict.py\n",
    "from memory_profiler import profile\n",
    "\n",
    "@profile\n",
    "def compare_fill_dict():\n",
    "    keys,values=range(100000),range(100000)\n",
    "    d=dict()\n",
    "    for i in range(len(keys)):\n",
    "        d[keys[i]]=values[i]\n",
    "    d1={keys[i]:values[i] for i in range(len(keys))}\n",
    "    d2=dict(zip(keys,values))\n",
    "    return d,d1,d2\n",
    "\n",
    "if __name__=='__main__':\n",
    "    compare_fill_dict()"
   ]
  },
  {
   "cell_type": "code",
   "execution_count": 11,
   "metadata": {},
   "outputs": [
    {
     "name": "stdout",
     "output_type": "stream",
     "text": [
      "Filename: compare_fill_dict.py\n",
      "\n",
      "Line #    Mem usage    Increment   Line Contents\n",
      "================================================\n",
      "     3     39.9 MiB     39.9 MiB   @profile\n",
      "     4                             def compare_fill_dict():\n",
      "     5     39.9 MiB      0.0 MiB       keys,values=range(100000),range(100000)\n",
      "     6     39.9 MiB      0.0 MiB       d=dict()\n",
      "     7     51.1 MiB      0.1 MiB       for i in range(len(keys)):\n",
      "     8     51.1 MiB      2.5 MiB           d[keys[i]]=values[i]\n",
      "     9     62.2 MiB      2.5 MiB       d1={keys[i]:values[i] for i in range(len(keys))}\n",
      "    10     73.4 MiB     11.2 MiB       d2=dict(zip(keys,values))\n",
      "    11     73.4 MiB      0.0 MiB       return d,d1,d2\n",
      "\n",
      "\n"
     ]
    }
   ],
   "source": [
    "!python compare_fill_dict.py"
   ]
  },
  {
   "cell_type": "markdown",
   "metadata": {},
   "source": [
    "### Встроенные функции обработки работают сильно быстрее, но жрут память, так как используют какие-то временные переменные"
   ]
  },
  {
   "cell_type": "markdown",
   "metadata": {},
   "source": [
    "## 2. К каждому элементу списка применить какуе-либо преобразование (например, длячислового списка - возвести в кавдрат, для строкового - привести к верхнемурегистру, отфильтровать определенные символы, и т.д.)."
   ]
  },
  {
   "cell_type": "code",
   "execution_count": 12,
   "metadata": {},
   "outputs": [],
   "source": [
    "def pow_list():\n",
    "    a=[]\n",
    "    for i in list(range(10000000)):\n",
    "        a.append(1.000001**i)\n",
    "    return a\n",
    "        "
   ]
  },
  {
   "cell_type": "code",
   "execution_count": 13,
   "metadata": {},
   "outputs": [],
   "source": [
    "%lprun -f pow_list pow_list()"
   ]
  },
  {
   "cell_type": "markdown",
   "metadata": {},
   "source": [
    "### Total time: 9.58203 s"
   ]
  },
  {
   "cell_type": "code",
   "execution_count": 14,
   "metadata": {},
   "outputs": [],
   "source": [
    "def pow_list1():\n",
    "    return [1.000001**i for i in list(range(10000000))]"
   ]
  },
  {
   "cell_type": "code",
   "execution_count": 15,
   "metadata": {},
   "outputs": [],
   "source": [
    "%lprun -f pow_list1 pow_list1()"
   ]
  },
  {
   "cell_type": "markdown",
   "metadata": {},
   "source": [
    "### Total time: 3.3767 s"
   ]
  },
  {
   "cell_type": "code",
   "execution_count": 16,
   "metadata": {},
   "outputs": [],
   "source": [
    "def pow_list2():\n",
    "    return list(map(lambda i:1.000001**i,list(range(10000000))))"
   ]
  },
  {
   "cell_type": "code",
   "execution_count": 17,
   "metadata": {},
   "outputs": [],
   "source": [
    "%lprun -f pow_list2 pow_list2()"
   ]
  },
  {
   "cell_type": "markdown",
   "metadata": {},
   "source": [
    "### Total time: 4.94018 s"
   ]
  },
  {
   "cell_type": "code",
   "execution_count": 18,
   "metadata": {},
   "outputs": [
    {
     "name": "stdout",
     "output_type": "stream",
     "text": [
      "Overwriting compare_pow_list.py\n"
     ]
    }
   ],
   "source": [
    "%%writefile compare_pow_list.py\n",
    "from memory_profiler import profile\n",
    "\n",
    "@profile\n",
    "def compare_pow_list():\n",
    "    a=[]\n",
    "    for i in list(range(10000)):\n",
    "        a.append(1.000001**i)\n",
    "    a1=[1.000001**i for i in list(range(10000))]\n",
    "    a2=list(map(lambda i:1.000001**i,list(range(10000))))\n",
    "    \n",
    "\n",
    "if __name__=='__main__':\n",
    "    compare_pow_list()"
   ]
  },
  {
   "cell_type": "code",
   "execution_count": 19,
   "metadata": {},
   "outputs": [
    {
     "name": "stdout",
     "output_type": "stream",
     "text": [
      "Filename: compare_pow_list.py\n",
      "\n",
      "Line #    Mem usage    Increment   Line Contents\n",
      "================================================\n",
      "     3     39.9 MiB     39.9 MiB   @profile\n",
      "     4                             def compare_pow_list():\n",
      "     5     39.9 MiB      0.0 MiB       a=[]\n",
      "     6     40.8 MiB      0.3 MiB       for i in list(range(10000)):\n",
      "     7     40.8 MiB      0.1 MiB           a.append(1.000001**i)\n",
      "     8     41.1 MiB      0.1 MiB       a1=[1.000001**i for i in list(range(10000))]\n",
      "     9     41.6 MiB      0.1 MiB       a2=list(map(lambda i:1.000001**i,list(range(10000))))\n",
      "\n",
      "\n"
     ]
    }
   ],
   "source": [
    "!python compare_pow_list.py"
   ]
  },
  {
   "cell_type": "markdown",
   "metadata": {},
   "source": [
    "### Преобразование map->list занимает довольно продолжительное время"
   ]
  },
  {
   "cell_type": "markdown",
   "metadata": {},
   "source": [
    "## 3. Отсортировать список."
   ]
  },
  {
   "cell_type": "code",
   "execution_count": 126,
   "metadata": {},
   "outputs": [
    {
     "data": {
      "text/plain": [
       "array([ 62, 178, 381, 344, 226, 397,  98, 204,  30,  68])"
      ]
     },
     "execution_count": 126,
     "metadata": {},
     "output_type": "execute_result"
    }
   ],
   "source": [
    "from numpy.random import randint\n",
    "a=randint(0,400,5000)\n",
    "a[:10]"
   ]
  },
  {
   "cell_type": "code",
   "execution_count": 127,
   "metadata": {},
   "outputs": [],
   "source": [
    "import copy"
   ]
  },
  {
   "cell_type": "code",
   "execution_count": 128,
   "metadata": {},
   "outputs": [],
   "source": [
    "def sort_buble(a):\n",
    "    b=copy.deepcopy(a)\n",
    "    for i in range(len(b)-1):\n",
    "        for j in range(i+1,len(b)):\n",
    "            if b[i]>b[j]:\n",
    "                b[i],b[j]=b[j],b[i]\n",
    "    return b"
   ]
  },
  {
   "cell_type": "code",
   "execution_count": 147,
   "metadata": {},
   "outputs": [
    {
     "name": "stdout",
     "output_type": "stream",
     "text": [
      "0 0 0 0 0 0 0 0 0 0 0 0 0 1 1 1 1 1 1 1 1 1 1 1 2 2 2 2 2 2 2 2 2 2 2 2 2 2 3 3 3 3 3 3 3 3 3 3 3 3\n"
     ]
    }
   ],
   "source": [
    "print(*(sort_buble(a)[:50]))"
   ]
  },
  {
   "cell_type": "code",
   "execution_count": 132,
   "metadata": {},
   "outputs": [],
   "source": [
    "%lprun -f sort_buble sort_buble(a)"
   ]
  },
  {
   "cell_type": "markdown",
   "metadata": {},
   "source": [
    "### Total time: 11.9012 s"
   ]
  },
  {
   "cell_type": "code",
   "execution_count": 141,
   "metadata": {},
   "outputs": [],
   "source": [
    "def qsort(a):\n",
    "    b=sorted(a)\n",
    "    return b"
   ]
  },
  {
   "cell_type": "code",
   "execution_count": 148,
   "metadata": {},
   "outputs": [
    {
     "name": "stdout",
     "output_type": "stream",
     "text": [
      "0 0 0 0 0 0 0 0 0 0 0 0 0 1 1 1 1 1 1 1 1 1 1 1 2 2 2 2 2 2 2 2 2 2 2 2 2 2 3 3 3 3 3 3 3 3 3 3 3 3\n"
     ]
    }
   ],
   "source": [
    "print(*(qsort(a)[:50]))"
   ]
  },
  {
   "cell_type": "code",
   "execution_count": 149,
   "metadata": {},
   "outputs": [],
   "source": [
    "%lprun -f qsort qsort(a)"
   ]
  },
  {
   "cell_type": "markdown",
   "metadata": {},
   "source": [
    "### Total time: 0.0023229 s"
   ]
  },
  {
   "cell_type": "code",
   "execution_count": 136,
   "metadata": {},
   "outputs": [],
   "source": [
    "from collections import defaultdict\n",
    "def sort_by_count(a):\n",
    "    d=defaultdict(int)\n",
    "    for el in a:\n",
    "        d[el]+=1\n",
    "    b=[]\n",
    "    for i in range(400):\n",
    "        for j in range(d[i]):\n",
    "            b.append(i)\n",
    "    return b\n",
    "            \n",
    "    "
   ]
  },
  {
   "cell_type": "code",
   "execution_count": 151,
   "metadata": {},
   "outputs": [
    {
     "name": "stdout",
     "output_type": "stream",
     "text": [
      "0 0 0 0 0 0 0 0 0 0 0 0 0 1 1 1 1 1 1 1 1 1 1 1 2 2 2 2 2 2 2 2 2 2 2 2 2 2 3 3 3 3 3 3 3 3 3 3 3 3\n"
     ]
    }
   ],
   "source": [
    "print(*(sort_by_count(a)[:50]))"
   ]
  },
  {
   "cell_type": "code",
   "execution_count": 152,
   "metadata": {},
   "outputs": [],
   "source": [
    "%lprun -f sort_by_count sort_by_count(a)"
   ]
  },
  {
   "cell_type": "markdown",
   "metadata": {},
   "source": [
    "### Total time: 0.0097716 s"
   ]
  },
  {
   "cell_type": "code",
   "execution_count": 157,
   "metadata": {},
   "outputs": [
    {
     "name": "stdout",
     "output_type": "stream",
     "text": [
      "Overwriting compare_sort.py\n"
     ]
    }
   ],
   "source": [
    "%%writefile compare_sort.py\n",
    "from memory_profiler import profile\n",
    "from numpy.random import randint\n",
    "from collections import defaultdict\n",
    "import copy\n",
    "\n",
    "a=randint(0,400,5000)\n",
    "\n",
    "def sort_buble(a):\n",
    "    b=copy.deepcopy(a)\n",
    "    for i in range(len(b)-1):\n",
    "        for j in range(i+1,len(b)):\n",
    "            if b[i]>b[j]:\n",
    "                b[i],b[j]=b[j],b[i]\n",
    "    return b\n",
    "\n",
    "def qsort(a):\n",
    "    b=sorted(a)\n",
    "    return b\n",
    "\n",
    "\n",
    "def sort_by_count(a):\n",
    "    d=defaultdict(int)\n",
    "    for el in a:\n",
    "        d[el]+=1\n",
    "    b=[]\n",
    "    for i in range(400):\n",
    "        for j in range(d[i]):\n",
    "            b.append(i)\n",
    "    return b\n",
    "\n",
    "\n",
    "@profile\n",
    "def compare_sort():\n",
    "    b=sort_buble(a)\n",
    "    b1=qsort(a)\n",
    "    b2=sort_by_count(a)\n",
    "    return 0\n",
    "    \n",
    "\n",
    "if __name__=='__main__':\n",
    "    compare_sort()"
   ]
  },
  {
   "cell_type": "code",
   "execution_count": 158,
   "metadata": {},
   "outputs": [
    {
     "name": "stdout",
     "output_type": "stream",
     "text": [
      "Filename: compare_sort.py\n",
      "\n",
      "Line #    Mem usage    Increment   Line Contents\n",
      "================================================\n",
      "    32     51.6 MiB     51.6 MiB   @profile\n",
      "    33                             def compare_sort():\n",
      "    34     51.7 MiB      0.0 MiB       b=sort_buble(a)\n",
      "    35     51.8 MiB      0.1 MiB       b1=qsort(a)\n",
      "    36     51.9 MiB      0.1 MiB       b2=sort_by_count(a)\n",
      "    37     51.9 MiB      0.0 MiB       return 0\n",
      "\n",
      "\n"
     ]
    }
   ],
   "source": [
    "!python compare_sort.py"
   ]
  },
  {
   "cell_type": "markdown",
   "metadata": {},
   "source": [
    "### по быстродействию лучше использовать встроенную сортировку, хотя при больших размерах списка сортировка подсчетом будет быстрее - О(n) против O(n*log(n))  . про память по отчету ничего не понятно, но увеличивать размер списка означает квадратичное увеличение времени работы пузырькового метода сортировки. в принципе и так все понятно."
   ]
  },
  {
   "cell_type": "markdown",
   "metadata": {},
   "source": [
    "## 4. Распаковать вложенный список."
   ]
  },
  {
   "cell_type": "code",
   "execution_count": 170,
   "metadata": {},
   "outputs": [],
   "source": [
    "x,y,z=3,4,5"
   ]
  },
  {
   "cell_type": "code",
   "execution_count": 171,
   "metadata": {},
   "outputs": [],
   "source": [
    "a=[[[el for el in range(x)] for i in range(y)] for i in range(z)]"
   ]
  },
  {
   "cell_type": "code",
   "execution_count": 172,
   "metadata": {},
   "outputs": [
    {
     "data": {
      "text/plain": [
       "[[[0, 1, 2], [0, 1, 2], [0, 1, 2], [0, 1, 2]],\n",
       " [[0, 1, 2], [0, 1, 2], [0, 1, 2], [0, 1, 2]],\n",
       " [[0, 1, 2], [0, 1, 2], [0, 1, 2], [0, 1, 2]],\n",
       " [[0, 1, 2], [0, 1, 2], [0, 1, 2], [0, 1, 2]],\n",
       " [[0, 1, 2], [0, 1, 2], [0, 1, 2], [0, 1, 2]]]"
      ]
     },
     "execution_count": 172,
     "metadata": {},
     "output_type": "execute_result"
    }
   ],
   "source": [
    "a"
   ]
  },
  {
   "cell_type": "code",
   "execution_count": 173,
   "metadata": {},
   "outputs": [],
   "source": [
    "def unpack(a):\n",
    "    b=[]\n",
    "    for i in a:\n",
    "        for j in i:\n",
    "            for k in j:\n",
    "                b.append(k)\n",
    "    return b"
   ]
  },
  {
   "cell_type": "code",
   "execution_count": 175,
   "metadata": {},
   "outputs": [
    {
     "name": "stdout",
     "output_type": "stream",
     "text": [
      "0 1 2 0 1 2 0 1 2 0 1 2 0 1 2 0 1 2 0 1 2 0 1 2 0 1 2 0 1 2 0 1 2 0 1 2 0 1 2 0 1 2 0 1 2 0 1 2 0 1 2 0 1 2 0 1 2 0 1 2\n"
     ]
    }
   ],
   "source": [
    "print(*unpack(a))"
   ]
  },
  {
   "cell_type": "code",
   "execution_count": 176,
   "metadata": {},
   "outputs": [],
   "source": [
    "import numpy"
   ]
  },
  {
   "cell_type": "code",
   "execution_count": 189,
   "metadata": {},
   "outputs": [
    {
     "name": "stdout",
     "output_type": "stream",
     "text": [
      "0 1 2 0 1 2 0 1 2 0 1 2 0 1 2 0 1 2 0 1 2 0 1 2 0 1 2 0 1 2 0 1 2 0 1 2 0 1 2 0 1 2 0 1 2 0 1 2 0 1 2 0 1 2 0 1 2 0 1 2\n"
     ]
    }
   ],
   "source": [
    "def myflatten(a):\n",
    "    return list(numpy.array(a).flatten())\n",
    "\n",
    "print(*myflatten(a))"
   ]
  },
  {
   "cell_type": "code",
   "execution_count": 183,
   "metadata": {},
   "outputs": [],
   "source": [
    "from itertools import chain"
   ]
  },
  {
   "cell_type": "code",
   "execution_count": 190,
   "metadata": {},
   "outputs": [
    {
     "name": "stdout",
     "output_type": "stream",
     "text": [
      "0 1 2 0 1 2 0 1 2 0 1 2 0 1 2 0 1 2 0 1 2 0 1 2 0 1 2 0 1 2 0 1 2 0 1 2 0 1 2 0 1 2 0 1 2 0 1 2 0 1 2 0 1 2 0 1 2 0 1 2\n"
     ]
    }
   ],
   "source": [
    "def mychain(a):\n",
    "    return list(chain.from_iterable(chain.from_iterable(a)))\n",
    "print(*mychain(a))"
   ]
  },
  {
   "cell_type": "code",
   "execution_count": 196,
   "metadata": {},
   "outputs": [],
   "source": [
    "x,y,z=300,400,50\n",
    "a=[[[el for el in range(x)] for i in range(y)] for i in range(z)]"
   ]
  },
  {
   "cell_type": "code",
   "execution_count": 197,
   "metadata": {},
   "outputs": [],
   "source": [
    "%lprun -f unpack unpack(a)"
   ]
  },
  {
   "cell_type": "markdown",
   "metadata": {},
   "source": [
    "### Total time: 3.74585 s"
   ]
  },
  {
   "cell_type": "code",
   "execution_count": 198,
   "metadata": {},
   "outputs": [],
   "source": [
    "%lprun -f myflatten myflatten(a)"
   ]
  },
  {
   "cell_type": "markdown",
   "metadata": {},
   "source": [
    "### Total time: 0.523447 s"
   ]
  },
  {
   "cell_type": "code",
   "execution_count": 199,
   "metadata": {},
   "outputs": [],
   "source": [
    "%lprun -f mychain mychain(a)"
   ]
  },
  {
   "cell_type": "markdown",
   "metadata": {},
   "source": [
    "### Total time: 0.217366 s"
   ]
  },
  {
   "cell_type": "code",
   "execution_count": 206,
   "metadata": {},
   "outputs": [
    {
     "name": "stdout",
     "output_type": "stream",
     "text": [
      "Overwriting compare_unpack.py\n"
     ]
    }
   ],
   "source": [
    "%%writefile compare_unpack.py\n",
    "import numpy\n",
    "from itertools import chain\n",
    "from memory_profiler import profile\n",
    "\n",
    "x,y,z=300,400,50\n",
    "a=[[[el for el in range(x)] for i in range(y)] for i in range(z)]\n",
    "\n",
    "def unpack(a):\n",
    "    b=[]\n",
    "    for i in a:\n",
    "        for j in i:\n",
    "            for k in j:\n",
    "                b.append(k)\n",
    "    return b\n",
    "\n",
    "def myflatten(a):\n",
    "    return list(numpy.array(a).flatten())\n",
    "\n",
    "def mychain(a):\n",
    "    return list(chain.from_iterable(chain.from_iterable(a)))\n",
    "\n",
    "\n",
    "@profile\n",
    "def compare_unpack():\n",
    "    b=unpack(a)\n",
    "    b1=myflatten(a)\n",
    "    b2=mychain(a)\n",
    "    return 0\n",
    "    \n",
    "\n",
    "if __name__=='__main__':\n",
    "    compare_unpack()"
   ]
  },
  {
   "cell_type": "code",
   "execution_count": 207,
   "metadata": {},
   "outputs": [
    {
     "name": "stdout",
     "output_type": "stream",
     "text": [
      "Filename: compare_unpack.py\n",
      "\n",
      "Line #    Mem usage    Increment   Line Contents\n",
      "================================================\n",
      "    23    128.9 MiB    128.9 MiB   @profile\n",
      "    24                             def compare_unpack():\n",
      "    25    177.2 MiB     48.3 MiB       b=unpack(a)\n",
      "    26    409.0 MiB    231.8 MiB       b1=myflatten(a)\n",
      "    27    455.0 MiB     46.0 MiB       b2=mychain(a)\n",
      "    28    455.0 MiB      0.0 MiB       return 0\n",
      "\n",
      "\n"
     ]
    }
   ],
   "source": [
    "!python compare_unpack.py"
   ]
  },
  {
   "cell_type": "markdown",
   "metadata": {},
   "source": [
    "### itertools впереди планеты всей. "
   ]
  },
  {
   "cell_type": "code",
   "execution_count": null,
   "metadata": {},
   "outputs": [],
   "source": []
  }
 ],
 "metadata": {
  "kernelspec": {
   "display_name": "Python 3",
   "language": "python",
   "name": "python3"
  },
  "language_info": {
   "codemirror_mode": {
    "name": "ipython",
    "version": 3
   },
   "file_extension": ".py",
   "mimetype": "text/x-python",
   "name": "python",
   "nbconvert_exporter": "python",
   "pygments_lexer": "ipython3",
   "version": "3.7.5"
  }
 },
 "nbformat": 4,
 "nbformat_minor": 2
}
